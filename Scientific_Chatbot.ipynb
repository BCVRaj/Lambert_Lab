{
  "cells": [
    {
      "cell_type": "code",
      "execution_count": 2,
      "metadata": {
        "colab": {
          "base_uri": "https://localhost:8080/"
        },
        "id": "j809CTNGENtR",
        "outputId": "cf73f2f4-3471-4292-8be9-29c52d401bc7"
      },
      "outputs": [
        {
          "name": "stdout",
          "output_type": "stream",
          "text": [
            "Defaulting to user installation because normal site-packages is not writeable\n",
            "Requirement already satisfied: langchain-huggingface in c:\\users\\chand\\appdata\\roaming\\python\\python311\\site-packages (0.1.2)\n",
            "Requirement already satisfied: huggingface-hub>=0.23.0 in c:\\users\\chand\\appdata\\roaming\\python\\python311\\site-packages (from langchain-huggingface) (0.29.3)\n",
            "Requirement already satisfied: langchain-core<0.4.0,>=0.3.15 in c:\\users\\chand\\appdata\\roaming\\python\\python311\\site-packages (from langchain-huggingface) (0.3.45)\n",
            "Requirement already satisfied: sentence-transformers>=2.6.0 in c:\\users\\chand\\appdata\\roaming\\python\\python311\\site-packages (from langchain-huggingface) (3.4.1)\n",
            "Requirement already satisfied: tokenizers>=0.19.1 in c:\\users\\chand\\appdata\\roaming\\python\\python311\\site-packages (from langchain-huggingface) (0.21.1)\n",
            "Requirement already satisfied: transformers>=4.39.0 in c:\\users\\chand\\appdata\\roaming\\python\\python311\\site-packages (from langchain-huggingface) (4.49.0)\n",
            "Requirement already satisfied: filelock in c:\\programdata\\anaconda3\\lib\\site-packages (from huggingface-hub>=0.23.0->langchain-huggingface) (3.9.0)\n",
            "Requirement already satisfied: fsspec>=2023.5.0 in c:\\users\\chand\\appdata\\roaming\\python\\python311\\site-packages (from huggingface-hub>=0.23.0->langchain-huggingface) (2025.3.0)\n",
            "Requirement already satisfied: packaging>=20.9 in c:\\users\\chand\\appdata\\roaming\\python\\python311\\site-packages (from huggingface-hub>=0.23.0->langchain-huggingface) (24.2)\n",
            "Requirement already satisfied: pyyaml>=5.1 in c:\\programdata\\anaconda3\\lib\\site-packages (from huggingface-hub>=0.23.0->langchain-huggingface) (6.0)\n",
            "Requirement already satisfied: requests in c:\\programdata\\anaconda3\\lib\\site-packages (from huggingface-hub>=0.23.0->langchain-huggingface) (2.31.0)\n",
            "Requirement already satisfied: tqdm>=4.42.1 in c:\\programdata\\anaconda3\\lib\\site-packages (from huggingface-hub>=0.23.0->langchain-huggingface) (4.65.0)\n",
            "Requirement already satisfied: typing-extensions>=3.7.4.3 in c:\\users\\chand\\appdata\\roaming\\python\\python311\\site-packages (from huggingface-hub>=0.23.0->langchain-huggingface) (4.12.2)\n",
            "Requirement already satisfied: langsmith<0.4,>=0.1.125 in c:\\users\\chand\\appdata\\roaming\\python\\python311\\site-packages (from langchain-core<0.4.0,>=0.3.15->langchain-huggingface) (0.3.15)\n",
            "Requirement already satisfied: tenacity!=8.4.0,<10.0.0,>=8.1.0 in c:\\programdata\\anaconda3\\lib\\site-packages (from langchain-core<0.4.0,>=0.3.15->langchain-huggingface) (8.2.2)\n",
            "Requirement already satisfied: jsonpatch<2.0,>=1.33 in c:\\users\\chand\\appdata\\roaming\\python\\python311\\site-packages (from langchain-core<0.4.0,>=0.3.15->langchain-huggingface) (1.33)\n",
            "Requirement already satisfied: pydantic<3.0.0,>=2.5.2 in c:\\users\\chand\\appdata\\roaming\\python\\python311\\site-packages (from langchain-core<0.4.0,>=0.3.15->langchain-huggingface) (2.10.6)\n",
            "Collecting torch>=1.11.0 (from sentence-transformers>=2.6.0->langchain-huggingface)\n",
            "  Obtaining dependency information for torch>=1.11.0 from https://files.pythonhosted.org/packages/11/c5/2370d96b31eb1841c3a0883a492c15278a6718ccad61bb6a649c80d1d9eb/torch-2.6.0-cp311-cp311-win_amd64.whl.metadata\n",
            "  Using cached torch-2.6.0-cp311-cp311-win_amd64.whl.metadata (28 kB)\n",
            "Requirement already satisfied: scikit-learn in c:\\programdata\\anaconda3\\lib\\site-packages (from sentence-transformers>=2.6.0->langchain-huggingface) (1.3.0)\n",
            "Requirement already satisfied: scipy in c:\\programdata\\anaconda3\\lib\\site-packages (from sentence-transformers>=2.6.0->langchain-huggingface) (1.10.1)\n",
            "Requirement already satisfied: Pillow in c:\\programdata\\anaconda3\\lib\\site-packages (from sentence-transformers>=2.6.0->langchain-huggingface) (9.4.0)\n",
            "Requirement already satisfied: numpy>=1.17 in c:\\programdata\\anaconda3\\lib\\site-packages (from transformers>=4.39.0->langchain-huggingface) (1.24.3)\n",
            "Requirement already satisfied: regex!=2019.12.17 in c:\\programdata\\anaconda3\\lib\\site-packages (from transformers>=4.39.0->langchain-huggingface) (2022.7.9)\n",
            "Requirement already satisfied: safetensors>=0.4.1 in c:\\users\\chand\\appdata\\roaming\\python\\python311\\site-packages (from transformers>=4.39.0->langchain-huggingface) (0.5.3)\n",
            "Requirement already satisfied: jsonpointer>=1.9 in c:\\programdata\\anaconda3\\lib\\site-packages (from jsonpatch<2.0,>=1.33->langchain-core<0.4.0,>=0.3.15->langchain-huggingface) (2.1)\n",
            "Requirement already satisfied: httpx<1,>=0.23.0 in c:\\users\\chand\\appdata\\roaming\\python\\python311\\site-packages (from langsmith<0.4,>=0.1.125->langchain-core<0.4.0,>=0.3.15->langchain-huggingface) (0.28.1)\n",
            "Requirement already satisfied: orjson<4.0.0,>=3.9.14 in c:\\users\\chand\\appdata\\roaming\\python\\python311\\site-packages (from langsmith<0.4,>=0.1.125->langchain-core<0.4.0,>=0.3.15->langchain-huggingface) (3.10.15)\n",
            "Requirement already satisfied: requests-toolbelt<2.0.0,>=1.0.0 in c:\\programdata\\anaconda3\\lib\\site-packages (from langsmith<0.4,>=0.1.125->langchain-core<0.4.0,>=0.3.15->langchain-huggingface) (1.0.0)\n",
            "Requirement already satisfied: zstandard<0.24.0,>=0.23.0 in c:\\users\\chand\\appdata\\roaming\\python\\python311\\site-packages (from langsmith<0.4,>=0.1.125->langchain-core<0.4.0,>=0.3.15->langchain-huggingface) (0.23.0)\n",
            "Requirement already satisfied: annotated-types>=0.6.0 in c:\\users\\chand\\appdata\\roaming\\python\\python311\\site-packages (from pydantic<3.0.0,>=2.5.2->langchain-core<0.4.0,>=0.3.15->langchain-huggingface) (0.7.0)\n",
            "Requirement already satisfied: pydantic-core==2.27.2 in c:\\users\\chand\\appdata\\roaming\\python\\python311\\site-packages (from pydantic<3.0.0,>=2.5.2->langchain-core<0.4.0,>=0.3.15->langchain-huggingface) (2.27.2)\n",
            "Requirement already satisfied: charset-normalizer<4,>=2 in c:\\programdata\\anaconda3\\lib\\site-packages (from requests->huggingface-hub>=0.23.0->langchain-huggingface) (2.0.4)\n",
            "Requirement already satisfied: idna<4,>=2.5 in c:\\programdata\\anaconda3\\lib\\site-packages (from requests->huggingface-hub>=0.23.0->langchain-huggingface) (3.4)\n",
            "Requirement already satisfied: urllib3<3,>=1.21.1 in c:\\programdata\\anaconda3\\lib\\site-packages (from requests->huggingface-hub>=0.23.0->langchain-huggingface) (1.26.16)\n",
            "Requirement already satisfied: certifi>=2017.4.17 in c:\\programdata\\anaconda3\\lib\\site-packages (from requests->huggingface-hub>=0.23.0->langchain-huggingface) (2023.7.22)\n",
            "Requirement already satisfied: networkx in c:\\programdata\\anaconda3\\lib\\site-packages (from torch>=1.11.0->sentence-transformers>=2.6.0->langchain-huggingface) (3.1)\n",
            "Requirement already satisfied: jinja2 in c:\\programdata\\anaconda3\\lib\\site-packages (from torch>=1.11.0->sentence-transformers>=2.6.0->langchain-huggingface) (3.1.2)\n",
            "Requirement already satisfied: sympy==1.13.1 in c:\\users\\chand\\appdata\\roaming\\python\\python311\\site-packages (from torch>=1.11.0->sentence-transformers>=2.6.0->langchain-huggingface) (1.13.1)\n",
            "Requirement already satisfied: mpmath<1.4,>=1.1.0 in c:\\programdata\\anaconda3\\lib\\site-packages (from sympy==1.13.1->torch>=1.11.0->sentence-transformers>=2.6.0->langchain-huggingface) (1.3.0)\n",
            "Requirement already satisfied: colorama in c:\\programdata\\anaconda3\\lib\\site-packages (from tqdm>=4.42.1->huggingface-hub>=0.23.0->langchain-huggingface) (0.4.6)\n",
            "Requirement already satisfied: joblib>=1.1.1 in c:\\programdata\\anaconda3\\lib\\site-packages (from scikit-learn->sentence-transformers>=2.6.0->langchain-huggingface) (1.2.0)\n",
            "Requirement already satisfied: threadpoolctl>=2.0.0 in c:\\programdata\\anaconda3\\lib\\site-packages (from scikit-learn->sentence-transformers>=2.6.0->langchain-huggingface) (2.2.0)\n",
            "Requirement already satisfied: anyio in c:\\programdata\\anaconda3\\lib\\site-packages (from httpx<1,>=0.23.0->langsmith<0.4,>=0.1.125->langchain-core<0.4.0,>=0.3.15->langchain-huggingface) (3.5.0)\n",
            "Requirement already satisfied: httpcore==1.* in c:\\users\\chand\\appdata\\roaming\\python\\python311\\site-packages (from httpx<1,>=0.23.0->langsmith<0.4,>=0.1.125->langchain-core<0.4.0,>=0.3.15->langchain-huggingface) (1.0.7)\n",
            "Requirement already satisfied: h11<0.15,>=0.13 in c:\\users\\chand\\appdata\\roaming\\python\\python311\\site-packages (from httpcore==1.*->httpx<1,>=0.23.0->langsmith<0.4,>=0.1.125->langchain-core<0.4.0,>=0.3.15->langchain-huggingface) (0.14.0)\n",
            "Requirement already satisfied: MarkupSafe>=2.0 in c:\\programdata\\anaconda3\\lib\\site-packages (from jinja2->torch>=1.11.0->sentence-transformers>=2.6.0->langchain-huggingface) (2.1.1)\n",
            "Requirement already satisfied: sniffio>=1.1 in c:\\programdata\\anaconda3\\lib\\site-packages (from anyio->httpx<1,>=0.23.0->langsmith<0.4,>=0.1.125->langchain-core<0.4.0,>=0.3.15->langchain-huggingface) (1.2.0)\n",
            "Using cached torch-2.6.0-cp311-cp311-win_amd64.whl (204.2 MB)\n",
            "Installing collected packages: torch\n",
            "Successfully installed torch-2.6.0\n"
          ]
        },
        {
          "name": "stderr",
          "output_type": "stream",
          "text": [
            "DEPRECATION: Loading egg at c:\\programdata\\anaconda3\\lib\\site-packages\\vboxapi-1.0-py3.11.egg is deprecated. pip 23.3 will enforce this behaviour change. A possible replacement is to use pip for package installation..\n",
            "  WARNING: The scripts torchfrtrace.exe and torchrun.exe are installed in 'C:\\Users\\chand\\AppData\\Roaming\\Python\\Python311\\Scripts' which is not on PATH.\n",
            "  Consider adding this directory to PATH or, if you prefer to suppress this warning, use --no-warn-script-location.\n"
          ]
        }
      ],
      "source": [
        "!pip install langchain-huggingface"
      ]
    },
    {
      "cell_type": "code",
      "execution_count": 3,
      "metadata": {
        "colab": {
          "background_save": true
        },
        "id": "t5CrYtQHEU0x",
        "outputId": "c39a8b2d-55eb-4a5c-9912-fb0b7eef3cbc"
      },
      "outputs": [
        {
          "name": "stdout",
          "output_type": "stream",
          "text": [
            "Defaulting to user installation because normal site-packages is not writeable\n",
            "Requirement already satisfied: google-api-python-client in c:\\users\\chand\\appdata\\roaming\\python\\python311\\site-packages (2.164.0)\n",
            "Collecting google-api-python-client\n",
            "  Obtaining dependency information for google-api-python-client from https://files.pythonhosted.org/packages/b4/44/ae1528a6ca296d89704c8febb72b3e263c28b4e50ab29b9202df7a0f273d/google_api_python_client-2.166.0-py2.py3-none-any.whl.metadata\n",
            "  Downloading google_api_python_client-2.166.0-py2.py3-none-any.whl.metadata (6.6 kB)\n",
            "Requirement already satisfied: google-auth-httplib2 in c:\\users\\chand\\appdata\\roaming\\python\\python311\\site-packages (0.2.0)\n",
            "Requirement already satisfied: google-auth-oauthlib in c:\\users\\chand\\appdata\\roaming\\python\\python311\\site-packages (1.2.1)\n",
            "Requirement already satisfied: httplib2<1.0.0,>=0.19.0 in c:\\users\\chand\\appdata\\roaming\\python\\python311\\site-packages (from google-api-python-client) (0.22.0)\n",
            "Requirement already satisfied: google-auth!=2.24.0,!=2.25.0,<3.0.0,>=1.32.0 in c:\\users\\chand\\appdata\\roaming\\python\\python311\\site-packages (from google-api-python-client) (2.38.0)\n",
            "Requirement already satisfied: google-api-core!=2.0.*,!=2.1.*,!=2.2.*,!=2.3.0,<3.0.0,>=1.31.5 in c:\\users\\chand\\appdata\\roaming\\python\\python311\\site-packages (from google-api-python-client) (2.24.2)\n",
            "Requirement already satisfied: uritemplate<5,>=3.0.1 in c:\\users\\chand\\appdata\\roaming\\python\\python311\\site-packages (from google-api-python-client) (4.1.1)\n",
            "Requirement already satisfied: requests-oauthlib>=0.7.0 in c:\\users\\chand\\appdata\\roaming\\python\\python311\\site-packages (from google-auth-oauthlib) (2.0.0)\n",
            "Requirement already satisfied: googleapis-common-protos<2.0.0,>=1.56.2 in c:\\users\\chand\\appdata\\roaming\\python\\python311\\site-packages (from google-api-core!=2.0.*,!=2.1.*,!=2.2.*,!=2.3.0,<3.0.0,>=1.31.5->google-api-python-client) (1.69.2)\n",
            "Requirement already satisfied: protobuf!=3.20.0,!=3.20.1,!=4.21.0,!=4.21.1,!=4.21.2,!=4.21.3,!=4.21.4,!=4.21.5,<7.0.0,>=3.19.5 in c:\\users\\chand\\appdata\\roaming\\python\\python311\\site-packages (from google-api-core!=2.0.*,!=2.1.*,!=2.2.*,!=2.3.0,<3.0.0,>=1.31.5->google-api-python-client) (5.29.3)\n",
            "Requirement already satisfied: proto-plus<2.0.0,>=1.22.3 in c:\\users\\chand\\appdata\\roaming\\python\\python311\\site-packages (from google-api-core!=2.0.*,!=2.1.*,!=2.2.*,!=2.3.0,<3.0.0,>=1.31.5->google-api-python-client) (1.26.1)\n",
            "Requirement already satisfied: requests<3.0.0,>=2.18.0 in c:\\programdata\\anaconda3\\lib\\site-packages (from google-api-core!=2.0.*,!=2.1.*,!=2.2.*,!=2.3.0,<3.0.0,>=1.31.5->google-api-python-client) (2.31.0)\n",
            "Requirement already satisfied: cachetools<6.0,>=2.0.0 in c:\\users\\chand\\appdata\\roaming\\python\\python311\\site-packages (from google-auth!=2.24.0,!=2.25.0,<3.0.0,>=1.32.0->google-api-python-client) (5.5.2)\n",
            "Requirement already satisfied: pyasn1-modules>=0.2.1 in c:\\programdata\\anaconda3\\lib\\site-packages (from google-auth!=2.24.0,!=2.25.0,<3.0.0,>=1.32.0->google-api-python-client) (0.2.8)\n",
            "Requirement already satisfied: rsa<5,>=3.1.4 in c:\\users\\chand\\appdata\\roaming\\python\\python311\\site-packages (from google-auth!=2.24.0,!=2.25.0,<3.0.0,>=1.32.0->google-api-python-client) (4.9)\n",
            "Requirement already satisfied: pyparsing!=3.0.0,!=3.0.1,!=3.0.2,!=3.0.3,<4,>=2.4.2 in c:\\programdata\\anaconda3\\lib\\site-packages (from httplib2<1.0.0,>=0.19.0->google-api-python-client) (3.0.9)\n",
            "Requirement already satisfied: oauthlib>=3.0.0 in c:\\users\\chand\\appdata\\roaming\\python\\python311\\site-packages (from requests-oauthlib>=0.7.0->google-auth-oauthlib) (3.2.2)\n",
            "Requirement already satisfied: pyasn1<0.5.0,>=0.4.6 in c:\\programdata\\anaconda3\\lib\\site-packages (from pyasn1-modules>=0.2.1->google-auth!=2.24.0,!=2.25.0,<3.0.0,>=1.32.0->google-api-python-client) (0.4.8)\n",
            "Requirement already satisfied: charset-normalizer<4,>=2 in c:\\programdata\\anaconda3\\lib\\site-packages (from requests<3.0.0,>=2.18.0->google-api-core!=2.0.*,!=2.1.*,!=2.2.*,!=2.3.0,<3.0.0,>=1.31.5->google-api-python-client) (2.0.4)\n",
            "Requirement already satisfied: idna<4,>=2.5 in c:\\programdata\\anaconda3\\lib\\site-packages (from requests<3.0.0,>=2.18.0->google-api-core!=2.0.*,!=2.1.*,!=2.2.*,!=2.3.0,<3.0.0,>=1.31.5->google-api-python-client) (3.4)\n",
            "Requirement already satisfied: urllib3<3,>=1.21.1 in c:\\programdata\\anaconda3\\lib\\site-packages (from requests<3.0.0,>=2.18.0->google-api-core!=2.0.*,!=2.1.*,!=2.2.*,!=2.3.0,<3.0.0,>=1.31.5->google-api-python-client) (1.26.16)\n",
            "Requirement already satisfied: certifi>=2017.4.17 in c:\\programdata\\anaconda3\\lib\\site-packages (from requests<3.0.0,>=2.18.0->google-api-core!=2.0.*,!=2.1.*,!=2.2.*,!=2.3.0,<3.0.0,>=1.31.5->google-api-python-client) (2023.7.22)\n",
            "Downloading google_api_python_client-2.166.0-py2.py3-none-any.whl (13.2 MB)\n",
            "   ---------------------------------------- 0.0/13.2 MB ? eta -:--:--\n",
            "   ---------------------------------------- 0.1/13.2 MB 1.1 MB/s eta 0:00:13\n",
            "    --------------------------------------- 0.2/13.2 MB 2.2 MB/s eta 0:00:06\n",
            "   - -------------------------------------- 0.5/13.2 MB 3.5 MB/s eta 0:00:04\n",
            "   --- ------------------------------------ 1.0/13.2 MB 5.5 MB/s eta 0:00:03\n",
            "   ----- ---------------------------------- 1.7/13.2 MB 7.3 MB/s eta 0:00:02\n",
            "   ------- -------------------------------- 2.5/13.2 MB 8.9 MB/s eta 0:00:02\n",
            "   ---------- ----------------------------- 3.4/13.2 MB 10.2 MB/s eta 0:00:01\n",
            "   ------------ --------------------------- 4.2/13.2 MB 11.1 MB/s eta 0:00:01\n",
            "   --------------- ------------------------ 5.0/13.2 MB 11.9 MB/s eta 0:00:01\n",
            "   ----------------- ---------------------- 5.9/13.2 MB 12.5 MB/s eta 0:00:01\n",
            "   -------------------- ------------------- 6.7/13.2 MB 13.0 MB/s eta 0:00:01\n",
            "   ---------------------- ----------------- 7.5/13.2 MB 13.2 MB/s eta 0:00:01\n",
            "   ------------------------- -------------- 8.3/13.2 MB 13.7 MB/s eta 0:00:01\n",
            "   --------------------------- ------------ 9.2/13.2 MB 14.0 MB/s eta 0:00:01\n",
            "   ------------------------------ --------- 10.0/13.2 MB 14.2 MB/s eta 0:00:01\n",
            "   -------------------------------- ------- 10.9/13.2 MB 17.2 MB/s eta 0:00:01\n",
            "   ----------------------------------- ---- 11.7/13.2 MB 17.7 MB/s eta 0:00:01\n",
            "   -------------------------------------- - 12.5/13.2 MB 17.7 MB/s eta 0:00:01\n",
            "   ---------------------------------------  13.2/13.2 MB 17.7 MB/s eta 0:00:01\n",
            "   ---------------------------------------- 13.2/13.2 MB 16.4 MB/s eta 0:00:00\n",
            "Installing collected packages: google-api-python-client\n",
            "  Attempting uninstall: google-api-python-client\n",
            "    Found existing installation: google-api-python-client 2.164.0\n",
            "    Uninstalling google-api-python-client-2.164.0:\n",
            "      Successfully uninstalled google-api-python-client-2.164.0\n",
            "Successfully installed google-api-python-client-2.166.0\n"
          ]
        },
        {
          "name": "stderr",
          "output_type": "stream",
          "text": [
            "DEPRECATION: Loading egg at c:\\programdata\\anaconda3\\lib\\site-packages\\vboxapi-1.0-py3.11.egg is deprecated. pip 23.3 will enforce this behaviour change. A possible replacement is to use pip for package installation..\n"
          ]
        }
      ],
      "source": [
        "!pip install --upgrade google-api-python-client google-auth-httplib2 google-auth-oauthlib"
      ]
    },
    {
      "cell_type": "code",
      "execution_count": 4,
      "metadata": {
        "colab": {
          "background_save": true
        },
        "id": "8cOhNwV0EUxX",
        "outputId": "2a6e0a4e-97c5-41c9-c303-da4a667ebd0e"
      },
      "outputs": [
        {
          "name": "stdout",
          "output_type": "stream",
          "text": [
            "Defaulting to user installation because normal site-packages is not writeable\n",
            "Requirement already satisfied: huggingface_hub in c:\\users\\chand\\appdata\\roaming\\python\\python311\\site-packages (0.29.3)\n",
            "Requirement already satisfied: filelock in c:\\programdata\\anaconda3\\lib\\site-packages (from huggingface_hub) (3.9.0)\n",
            "Requirement already satisfied: fsspec>=2023.5.0 in c:\\users\\chand\\appdata\\roaming\\python\\python311\\site-packages (from huggingface_hub) (2025.3.0)\n",
            "Requirement already satisfied: packaging>=20.9 in c:\\users\\chand\\appdata\\roaming\\python\\python311\\site-packages (from huggingface_hub) (24.2)\n",
            "Requirement already satisfied: pyyaml>=5.1 in c:\\programdata\\anaconda3\\lib\\site-packages (from huggingface_hub) (6.0)\n",
            "Requirement already satisfied: requests in c:\\programdata\\anaconda3\\lib\\site-packages (from huggingface_hub) (2.31.0)\n",
            "Requirement already satisfied: tqdm>=4.42.1 in c:\\programdata\\anaconda3\\lib\\site-packages (from huggingface_hub) (4.65.0)\n",
            "Requirement already satisfied: typing-extensions>=3.7.4.3 in c:\\users\\chand\\appdata\\roaming\\python\\python311\\site-packages (from huggingface_hub) (4.12.2)\n",
            "Requirement already satisfied: colorama in c:\\programdata\\anaconda3\\lib\\site-packages (from tqdm>=4.42.1->huggingface_hub) (0.4.6)\n",
            "Requirement already satisfied: charset-normalizer<4,>=2 in c:\\programdata\\anaconda3\\lib\\site-packages (from requests->huggingface_hub) (2.0.4)\n",
            "Requirement already satisfied: idna<4,>=2.5 in c:\\programdata\\anaconda3\\lib\\site-packages (from requests->huggingface_hub) (3.4)\n",
            "Requirement already satisfied: urllib3<3,>=1.21.1 in c:\\programdata\\anaconda3\\lib\\site-packages (from requests->huggingface_hub) (1.26.16)\n",
            "Requirement already satisfied: certifi>=2017.4.17 in c:\\programdata\\anaconda3\\lib\\site-packages (from requests->huggingface_hub) (2023.7.22)\n"
          ]
        },
        {
          "name": "stderr",
          "output_type": "stream",
          "text": [
            "DEPRECATION: Loading egg at c:\\programdata\\anaconda3\\lib\\site-packages\\vboxapi-1.0-py3.11.egg is deprecated. pip 23.3 will enforce this behaviour change. A possible replacement is to use pip for package installation..\n"
          ]
        }
      ],
      "source": [
        "!pip install huggingface_hub"
      ]
    },
    {
      "cell_type": "code",
      "execution_count": 5,
      "metadata": {
        "colab": {
          "background_save": true
        },
        "id": "pLx7vIbHEUvT",
        "outputId": "80928008-9711-4015-fa93-30fd30c80a2e"
      },
      "outputs": [
        {
          "name": "stdout",
          "output_type": "stream",
          "text": [
            "Defaulting to user installation because normal site-packages is not writeable\n",
            "Requirement already satisfied: langchain_community in c:\\users\\chand\\appdata\\roaming\\python\\python311\\site-packages (0.3.19)\n",
            "Requirement already satisfied: langchain-core<1.0.0,>=0.3.41 in c:\\users\\chand\\appdata\\roaming\\python\\python311\\site-packages (from langchain_community) (0.3.45)\n",
            "Requirement already satisfied: langchain<1.0.0,>=0.3.20 in c:\\users\\chand\\appdata\\roaming\\python\\python311\\site-packages (from langchain_community) (0.3.20)\n",
            "Requirement already satisfied: SQLAlchemy<3,>=1.4 in c:\\programdata\\anaconda3\\lib\\site-packages (from langchain_community) (1.4.39)\n",
            "Requirement already satisfied: requests<3,>=2 in c:\\programdata\\anaconda3\\lib\\site-packages (from langchain_community) (2.31.0)\n",
            "Requirement already satisfied: PyYAML>=5.3 in c:\\programdata\\anaconda3\\lib\\site-packages (from langchain_community) (6.0)\n",
            "Requirement already satisfied: aiohttp<4.0.0,>=3.8.3 in c:\\programdata\\anaconda3\\lib\\site-packages (from langchain_community) (3.8.3)\n",
            "Requirement already satisfied: tenacity!=8.4.0,<10,>=8.1.0 in c:\\programdata\\anaconda3\\lib\\site-packages (from langchain_community) (8.2.2)\n",
            "Requirement already satisfied: dataclasses-json<0.7,>=0.5.7 in c:\\users\\chand\\appdata\\roaming\\python\\python311\\site-packages (from langchain_community) (0.6.7)\n",
            "Requirement already satisfied: pydantic-settings<3.0.0,>=2.4.0 in c:\\users\\chand\\appdata\\roaming\\python\\python311\\site-packages (from langchain_community) (2.8.1)\n",
            "Requirement already satisfied: langsmith<0.4,>=0.1.125 in c:\\users\\chand\\appdata\\roaming\\python\\python311\\site-packages (from langchain_community) (0.3.15)\n",
            "Requirement already satisfied: httpx-sse<1.0.0,>=0.4.0 in c:\\users\\chand\\appdata\\roaming\\python\\python311\\site-packages (from langchain_community) (0.4.0)\n",
            "Collecting numpy<3,>=1.26.2 (from langchain_community)\n",
            "  Obtaining dependency information for numpy<3,>=1.26.2 from https://files.pythonhosted.org/packages/8b/72/10c1d2d82101c468a28adc35de6c77b308f288cfd0b88e1070f15b98e00c/numpy-2.2.4-cp311-cp311-win_amd64.whl.metadata\n",
            "  Using cached numpy-2.2.4-cp311-cp311-win_amd64.whl.metadata (60 kB)\n",
            "Requirement already satisfied: attrs>=17.3.0 in c:\\programdata\\anaconda3\\lib\\site-packages (from aiohttp<4.0.0,>=3.8.3->langchain_community) (22.1.0)\n",
            "Requirement already satisfied: charset-normalizer<3.0,>=2.0 in c:\\programdata\\anaconda3\\lib\\site-packages (from aiohttp<4.0.0,>=3.8.3->langchain_community) (2.0.4)\n",
            "Requirement already satisfied: multidict<7.0,>=4.5 in c:\\programdata\\anaconda3\\lib\\site-packages (from aiohttp<4.0.0,>=3.8.3->langchain_community) (6.0.2)\n",
            "Requirement already satisfied: async-timeout<5.0,>=4.0.0a3 in c:\\programdata\\anaconda3\\lib\\site-packages (from aiohttp<4.0.0,>=3.8.3->langchain_community) (4.0.2)\n",
            "Requirement already satisfied: yarl<2.0,>=1.0 in c:\\programdata\\anaconda3\\lib\\site-packages (from aiohttp<4.0.0,>=3.8.3->langchain_community) (1.8.1)\n",
            "Requirement already satisfied: frozenlist>=1.1.1 in c:\\programdata\\anaconda3\\lib\\site-packages (from aiohttp<4.0.0,>=3.8.3->langchain_community) (1.3.3)\n",
            "Requirement already satisfied: aiosignal>=1.1.2 in c:\\programdata\\anaconda3\\lib\\site-packages (from aiohttp<4.0.0,>=3.8.3->langchain_community) (1.2.0)\n",
            "Requirement already satisfied: marshmallow<4.0.0,>=3.18.0 in c:\\users\\chand\\appdata\\roaming\\python\\python311\\site-packages (from dataclasses-json<0.7,>=0.5.7->langchain_community) (3.26.1)\n",
            "Requirement already satisfied: typing-inspect<1,>=0.4.0 in c:\\users\\chand\\appdata\\roaming\\python\\python311\\site-packages (from dataclasses-json<0.7,>=0.5.7->langchain_community) (0.9.0)\n",
            "Requirement already satisfied: langchain-text-splitters<1.0.0,>=0.3.6 in c:\\users\\chand\\appdata\\roaming\\python\\python311\\site-packages (from langchain<1.0.0,>=0.3.20->langchain_community) (0.3.6)\n",
            "Requirement already satisfied: pydantic<3.0.0,>=2.7.4 in c:\\users\\chand\\appdata\\roaming\\python\\python311\\site-packages (from langchain<1.0.0,>=0.3.20->langchain_community) (2.10.6)\n",
            "Requirement already satisfied: jsonpatch<2.0,>=1.33 in c:\\users\\chand\\appdata\\roaming\\python\\python311\\site-packages (from langchain-core<1.0.0,>=0.3.41->langchain_community) (1.33)\n",
            "Requirement already satisfied: packaging<25,>=23.2 in c:\\users\\chand\\appdata\\roaming\\python\\python311\\site-packages (from langchain-core<1.0.0,>=0.3.41->langchain_community) (24.2)\n",
            "Requirement already satisfied: typing-extensions>=4.7 in c:\\users\\chand\\appdata\\roaming\\python\\python311\\site-packages (from langchain-core<1.0.0,>=0.3.41->langchain_community) (4.12.2)\n",
            "Requirement already satisfied: httpx<1,>=0.23.0 in c:\\users\\chand\\appdata\\roaming\\python\\python311\\site-packages (from langsmith<0.4,>=0.1.125->langchain_community) (0.28.1)\n",
            "Requirement already satisfied: orjson<4.0.0,>=3.9.14 in c:\\users\\chand\\appdata\\roaming\\python\\python311\\site-packages (from langsmith<0.4,>=0.1.125->langchain_community) (3.10.15)\n",
            "Requirement already satisfied: requests-toolbelt<2.0.0,>=1.0.0 in c:\\programdata\\anaconda3\\lib\\site-packages (from langsmith<0.4,>=0.1.125->langchain_community) (1.0.0)\n",
            "Requirement already satisfied: zstandard<0.24.0,>=0.23.0 in c:\\users\\chand\\appdata\\roaming\\python\\python311\\site-packages (from langsmith<0.4,>=0.1.125->langchain_community) (0.23.0)\n",
            "Requirement already satisfied: python-dotenv>=0.21.0 in c:\\users\\chand\\appdata\\roaming\\python\\python311\\site-packages (from pydantic-settings<3.0.0,>=2.4.0->langchain_community) (1.0.1)\n",
            "Requirement already satisfied: idna<4,>=2.5 in c:\\programdata\\anaconda3\\lib\\site-packages (from requests<3,>=2->langchain_community) (3.4)\n",
            "Requirement already satisfied: urllib3<3,>=1.21.1 in c:\\programdata\\anaconda3\\lib\\site-packages (from requests<3,>=2->langchain_community) (1.26.16)\n",
            "Requirement already satisfied: certifi>=2017.4.17 in c:\\programdata\\anaconda3\\lib\\site-packages (from requests<3,>=2->langchain_community) (2023.7.22)\n",
            "Requirement already satisfied: greenlet!=0.4.17 in c:\\programdata\\anaconda3\\lib\\site-packages (from SQLAlchemy<3,>=1.4->langchain_community) (2.0.1)\n",
            "Requirement already satisfied: anyio in c:\\programdata\\anaconda3\\lib\\site-packages (from httpx<1,>=0.23.0->langsmith<0.4,>=0.1.125->langchain_community) (3.5.0)\n",
            "Requirement already satisfied: httpcore==1.* in c:\\users\\chand\\appdata\\roaming\\python\\python311\\site-packages (from httpx<1,>=0.23.0->langsmith<0.4,>=0.1.125->langchain_community) (1.0.7)\n",
            "Requirement already satisfied: h11<0.15,>=0.13 in c:\\users\\chand\\appdata\\roaming\\python\\python311\\site-packages (from httpcore==1.*->httpx<1,>=0.23.0->langsmith<0.4,>=0.1.125->langchain_community) (0.14.0)\n",
            "Requirement already satisfied: jsonpointer>=1.9 in c:\\programdata\\anaconda3\\lib\\site-packages (from jsonpatch<2.0,>=1.33->langchain-core<1.0.0,>=0.3.41->langchain_community) (2.1)\n",
            "Requirement already satisfied: annotated-types>=0.6.0 in c:\\users\\chand\\appdata\\roaming\\python\\python311\\site-packages (from pydantic<3.0.0,>=2.7.4->langchain<1.0.0,>=0.3.20->langchain_community) (0.7.0)\n",
            "Requirement already satisfied: pydantic-core==2.27.2 in c:\\users\\chand\\appdata\\roaming\\python\\python311\\site-packages (from pydantic<3.0.0,>=2.7.4->langchain<1.0.0,>=0.3.20->langchain_community) (2.27.2)\n",
            "Requirement already satisfied: mypy-extensions>=0.3.0 in c:\\programdata\\anaconda3\\lib\\site-packages (from typing-inspect<1,>=0.4.0->dataclasses-json<0.7,>=0.5.7->langchain_community) (0.4.3)\n",
            "Requirement already satisfied: sniffio>=1.1 in c:\\programdata\\anaconda3\\lib\\site-packages (from anyio->httpx<1,>=0.23.0->langsmith<0.4,>=0.1.125->langchain_community) (1.2.0)\n",
            "Using cached numpy-2.2.4-cp311-cp311-win_amd64.whl (12.9 MB)\n",
            "Installing collected packages: numpy\n",
            "Successfully installed numpy-2.2.4\n"
          ]
        },
        {
          "name": "stderr",
          "output_type": "stream",
          "text": [
            "DEPRECATION: Loading egg at c:\\programdata\\anaconda3\\lib\\site-packages\\vboxapi-1.0-py3.11.egg is deprecated. pip 23.3 will enforce this behaviour change. A possible replacement is to use pip for package installation..\n",
            "  WARNING: The scripts f2py.exe and numpy-config.exe are installed in 'C:\\Users\\chand\\AppData\\Roaming\\Python\\Python311\\Scripts' which is not on PATH.\n",
            "  Consider adding this directory to PATH or, if you prefer to suppress this warning, use --no-warn-script-location.\n",
            "ERROR: pip's dependency resolver does not currently take into account all the packages that are installed. This behaviour is the source of the following dependency conflicts.\n",
            "gensim 4.3.0 requires FuzzyTM>=0.4.0, which is not installed.\n",
            "tables 3.8.0 requires blosc2~=2.0.0, which is not installed.\n",
            "tables 3.8.0 requires cython>=0.29.21, which is not installed.\n",
            "tensorflow-intel 2.17.0 requires numpy<2.0.0,>=1.23.5; python_version <= \"3.11\", but you have numpy 2.2.4 which is incompatible.\n",
            "tensorflow-intel 2.17.0 requires protobuf!=4.21.0,!=4.21.1,!=4.21.2,!=4.21.3,!=4.21.4,!=4.21.5,<5.0.0dev,>=3.20.3, but you have protobuf 5.29.3 which is incompatible.\n",
            "numba 0.57.0 requires numpy<1.25,>=1.21, but you have numpy 2.2.4 which is incompatible.\n",
            "scipy 1.10.1 requires numpy<1.27.0,>=1.19.5, but you have numpy 2.2.4 which is incompatible.\n"
          ]
        }
      ],
      "source": [
        "!pip install langchain_community"
      ]
    },
    {
      "cell_type": "code",
      "execution_count": 6,
      "metadata": {
        "colab": {
          "base_uri": "https://localhost:8080/"
        },
        "id": "Mmboq7JyEUs_",
        "outputId": "aceae24f-e9b6-459b-b4fe-32832d2a82c8"
      },
      "outputs": [
        {
          "name": "stdout",
          "output_type": "stream",
          "text": [
            "Defaulting to user installation because normal site-packages is not writeable\n",
            "Requirement already satisfied: faiss-cpu in c:\\users\\chand\\appdata\\roaming\\python\\python311\\site-packages (1.10.0)\n",
            "Requirement already satisfied: numpy<3.0,>=1.25.0 in c:\\users\\chand\\appdata\\roaming\\python\\python311\\site-packages (from faiss-cpu) (2.2.4)\n",
            "Requirement already satisfied: packaging in c:\\users\\chand\\appdata\\roaming\\python\\python311\\site-packages (from faiss-cpu) (24.2)\n"
          ]
        },
        {
          "name": "stderr",
          "output_type": "stream",
          "text": [
            "DEPRECATION: Loading egg at c:\\programdata\\anaconda3\\lib\\site-packages\\vboxapi-1.0-py3.11.egg is deprecated. pip 23.3 will enforce this behaviour change. A possible replacement is to use pip for package installation..\n"
          ]
        }
      ],
      "source": [
        "!pip install faiss-cpu"
      ]
    },
    {
      "cell_type": "code",
      "execution_count": 7,
      "metadata": {
        "colab": {
          "base_uri": "https://localhost:8080/",
          "height": 1000
        },
        "id": "Y7z3qNFcEUqj",
        "outputId": "9165a01f-d08a-4a7d-8ad3-7632f9fe4e8c"
      },
      "outputs": [
        {
          "name": "stdout",
          "output_type": "stream",
          "text": [
            "Defaulting to user installation because normal site-packages is not writeable\n",
            "Requirement already satisfied: langchain_google_genai in c:\\users\\chand\\appdata\\roaming\\python\\python311\\site-packages (2.1.0)\n",
            "Requirement already satisfied: filetype<2.0.0,>=1.2.0 in c:\\users\\chand\\appdata\\roaming\\python\\python311\\site-packages (from langchain_google_genai) (1.2.0)\n",
            "Requirement already satisfied: google-ai-generativelanguage<0.7.0,>=0.6.16 in c:\\users\\chand\\appdata\\roaming\\python\\python311\\site-packages (from langchain_google_genai) (0.6.17)\n",
            "Requirement already satisfied: langchain-core<0.4.0,>=0.3.43 in c:\\users\\chand\\appdata\\roaming\\python\\python311\\site-packages (from langchain_google_genai) (0.3.45)\n",
            "Requirement already satisfied: pydantic<3,>=2 in c:\\users\\chand\\appdata\\roaming\\python\\python311\\site-packages (from langchain_google_genai) (2.10.6)\n",
            "Requirement already satisfied: google-api-core[grpc]!=2.0.*,!=2.1.*,!=2.10.*,!=2.2.*,!=2.3.*,!=2.4.*,!=2.5.*,!=2.6.*,!=2.7.*,!=2.8.*,!=2.9.*,<3.0.0,>=1.34.1 in c:\\users\\chand\\appdata\\roaming\\python\\python311\\site-packages (from google-ai-generativelanguage<0.7.0,>=0.6.16->langchain_google_genai) (2.24.2)\n",
            "Requirement already satisfied: google-auth!=2.24.0,!=2.25.0,<3.0.0,>=2.14.1 in c:\\users\\chand\\appdata\\roaming\\python\\python311\\site-packages (from google-ai-generativelanguage<0.7.0,>=0.6.16->langchain_google_genai) (2.38.0)\n",
            "Requirement already satisfied: proto-plus<2.0.0,>=1.22.3 in c:\\users\\chand\\appdata\\roaming\\python\\python311\\site-packages (from google-ai-generativelanguage<0.7.0,>=0.6.16->langchain_google_genai) (1.26.1)\n",
            "Requirement already satisfied: protobuf!=4.21.0,!=4.21.1,!=4.21.2,!=4.21.3,!=4.21.4,!=4.21.5,<7.0.0,>=3.20.2 in c:\\users\\chand\\appdata\\roaming\\python\\python311\\site-packages (from google-ai-generativelanguage<0.7.0,>=0.6.16->langchain_google_genai) (5.29.3)\n",
            "Requirement already satisfied: langsmith<0.4,>=0.1.125 in c:\\users\\chand\\appdata\\roaming\\python\\python311\\site-packages (from langchain-core<0.4.0,>=0.3.43->langchain_google_genai) (0.3.15)\n",
            "Requirement already satisfied: tenacity!=8.4.0,<10.0.0,>=8.1.0 in c:\\programdata\\anaconda3\\lib\\site-packages (from langchain-core<0.4.0,>=0.3.43->langchain_google_genai) (8.2.2)\n",
            "Requirement already satisfied: jsonpatch<2.0,>=1.33 in c:\\users\\chand\\appdata\\roaming\\python\\python311\\site-packages (from langchain-core<0.4.0,>=0.3.43->langchain_google_genai) (1.33)\n",
            "Requirement already satisfied: PyYAML>=5.3 in c:\\programdata\\anaconda3\\lib\\site-packages (from langchain-core<0.4.0,>=0.3.43->langchain_google_genai) (6.0)\n",
            "Requirement already satisfied: packaging<25,>=23.2 in c:\\users\\chand\\appdata\\roaming\\python\\python311\\site-packages (from langchain-core<0.4.0,>=0.3.43->langchain_google_genai) (24.2)\n",
            "Requirement already satisfied: typing-extensions>=4.7 in c:\\users\\chand\\appdata\\roaming\\python\\python311\\site-packages (from langchain-core<0.4.0,>=0.3.43->langchain_google_genai) (4.12.2)\n",
            "Requirement already satisfied: annotated-types>=0.6.0 in c:\\users\\chand\\appdata\\roaming\\python\\python311\\site-packages (from pydantic<3,>=2->langchain_google_genai) (0.7.0)\n",
            "Requirement already satisfied: pydantic-core==2.27.2 in c:\\users\\chand\\appdata\\roaming\\python\\python311\\site-packages (from pydantic<3,>=2->langchain_google_genai) (2.27.2)\n",
            "Requirement already satisfied: googleapis-common-protos<2.0.0,>=1.56.2 in c:\\users\\chand\\appdata\\roaming\\python\\python311\\site-packages (from google-api-core[grpc]!=2.0.*,!=2.1.*,!=2.10.*,!=2.2.*,!=2.3.*,!=2.4.*,!=2.5.*,!=2.6.*,!=2.7.*,!=2.8.*,!=2.9.*,<3.0.0,>=1.34.1->google-ai-generativelanguage<0.7.0,>=0.6.16->langchain_google_genai) (1.69.2)\n",
            "Requirement already satisfied: requests<3.0.0,>=2.18.0 in c:\\programdata\\anaconda3\\lib\\site-packages (from google-api-core[grpc]!=2.0.*,!=2.1.*,!=2.10.*,!=2.2.*,!=2.3.*,!=2.4.*,!=2.5.*,!=2.6.*,!=2.7.*,!=2.8.*,!=2.9.*,<3.0.0,>=1.34.1->google-ai-generativelanguage<0.7.0,>=0.6.16->langchain_google_genai) (2.31.0)\n",
            "Requirement already satisfied: grpcio<2.0dev,>=1.33.2 in c:\\users\\chand\\appdata\\roaming\\python\\python311\\site-packages (from google-api-core[grpc]!=2.0.*,!=2.1.*,!=2.10.*,!=2.2.*,!=2.3.*,!=2.4.*,!=2.5.*,!=2.6.*,!=2.7.*,!=2.8.*,!=2.9.*,<3.0.0,>=1.34.1->google-ai-generativelanguage<0.7.0,>=0.6.16->langchain_google_genai) (1.71.0)\n",
            "Requirement already satisfied: grpcio-status<2.0.dev0,>=1.33.2 in c:\\users\\chand\\appdata\\roaming\\python\\python311\\site-packages (from google-api-core[grpc]!=2.0.*,!=2.1.*,!=2.10.*,!=2.2.*,!=2.3.*,!=2.4.*,!=2.5.*,!=2.6.*,!=2.7.*,!=2.8.*,!=2.9.*,<3.0.0,>=1.34.1->google-ai-generativelanguage<0.7.0,>=0.6.16->langchain_google_genai) (1.71.0)\n",
            "Requirement already satisfied: cachetools<6.0,>=2.0.0 in c:\\users\\chand\\appdata\\roaming\\python\\python311\\site-packages (from google-auth!=2.24.0,!=2.25.0,<3.0.0,>=2.14.1->google-ai-generativelanguage<0.7.0,>=0.6.16->langchain_google_genai) (5.5.2)\n",
            "Requirement already satisfied: pyasn1-modules>=0.2.1 in c:\\programdata\\anaconda3\\lib\\site-packages (from google-auth!=2.24.0,!=2.25.0,<3.0.0,>=2.14.1->google-ai-generativelanguage<0.7.0,>=0.6.16->langchain_google_genai) (0.2.8)\n",
            "Requirement already satisfied: rsa<5,>=3.1.4 in c:\\users\\chand\\appdata\\roaming\\python\\python311\\site-packages (from google-auth!=2.24.0,!=2.25.0,<3.0.0,>=2.14.1->google-ai-generativelanguage<0.7.0,>=0.6.16->langchain_google_genai) (4.9)\n",
            "Requirement already satisfied: jsonpointer>=1.9 in c:\\programdata\\anaconda3\\lib\\site-packages (from jsonpatch<2.0,>=1.33->langchain-core<0.4.0,>=0.3.43->langchain_google_genai) (2.1)\n",
            "Requirement already satisfied: httpx<1,>=0.23.0 in c:\\users\\chand\\appdata\\roaming\\python\\python311\\site-packages (from langsmith<0.4,>=0.1.125->langchain-core<0.4.0,>=0.3.43->langchain_google_genai) (0.28.1)\n",
            "Requirement already satisfied: orjson<4.0.0,>=3.9.14 in c:\\users\\chand\\appdata\\roaming\\python\\python311\\site-packages (from langsmith<0.4,>=0.1.125->langchain-core<0.4.0,>=0.3.43->langchain_google_genai) (3.10.15)\n",
            "Requirement already satisfied: requests-toolbelt<2.0.0,>=1.0.0 in c:\\programdata\\anaconda3\\lib\\site-packages (from langsmith<0.4,>=0.1.125->langchain-core<0.4.0,>=0.3.43->langchain_google_genai) (1.0.0)\n",
            "Requirement already satisfied: zstandard<0.24.0,>=0.23.0 in c:\\users\\chand\\appdata\\roaming\\python\\python311\\site-packages (from langsmith<0.4,>=0.1.125->langchain-core<0.4.0,>=0.3.43->langchain_google_genai) (0.23.0)\n",
            "Requirement already satisfied: anyio in c:\\programdata\\anaconda3\\lib\\site-packages (from httpx<1,>=0.23.0->langsmith<0.4,>=0.1.125->langchain-core<0.4.0,>=0.3.43->langchain_google_genai) (3.5.0)\n",
            "Requirement already satisfied: certifi in c:\\programdata\\anaconda3\\lib\\site-packages (from httpx<1,>=0.23.0->langsmith<0.4,>=0.1.125->langchain-core<0.4.0,>=0.3.43->langchain_google_genai) (2023.7.22)\n",
            "Requirement already satisfied: httpcore==1.* in c:\\users\\chand\\appdata\\roaming\\python\\python311\\site-packages (from httpx<1,>=0.23.0->langsmith<0.4,>=0.1.125->langchain-core<0.4.0,>=0.3.43->langchain_google_genai) (1.0.7)\n",
            "Requirement already satisfied: idna in c:\\programdata\\anaconda3\\lib\\site-packages (from httpx<1,>=0.23.0->langsmith<0.4,>=0.1.125->langchain-core<0.4.0,>=0.3.43->langchain_google_genai) (3.4)\n",
            "Requirement already satisfied: h11<0.15,>=0.13 in c:\\users\\chand\\appdata\\roaming\\python\\python311\\site-packages (from httpcore==1.*->httpx<1,>=0.23.0->langsmith<0.4,>=0.1.125->langchain-core<0.4.0,>=0.3.43->langchain_google_genai) (0.14.0)\n",
            "Requirement already satisfied: pyasn1<0.5.0,>=0.4.6 in c:\\programdata\\anaconda3\\lib\\site-packages (from pyasn1-modules>=0.2.1->google-auth!=2.24.0,!=2.25.0,<3.0.0,>=2.14.1->google-ai-generativelanguage<0.7.0,>=0.6.16->langchain_google_genai) (0.4.8)\n",
            "Requirement already satisfied: charset-normalizer<4,>=2 in c:\\programdata\\anaconda3\\lib\\site-packages (from requests<3.0.0,>=2.18.0->google-api-core[grpc]!=2.0.*,!=2.1.*,!=2.10.*,!=2.2.*,!=2.3.*,!=2.4.*,!=2.5.*,!=2.6.*,!=2.7.*,!=2.8.*,!=2.9.*,<3.0.0,>=1.34.1->google-ai-generativelanguage<0.7.0,>=0.6.16->langchain_google_genai) (2.0.4)\n",
            "Requirement already satisfied: urllib3<3,>=1.21.1 in c:\\programdata\\anaconda3\\lib\\site-packages (from requests<3.0.0,>=2.18.0->google-api-core[grpc]!=2.0.*,!=2.1.*,!=2.10.*,!=2.2.*,!=2.3.*,!=2.4.*,!=2.5.*,!=2.6.*,!=2.7.*,!=2.8.*,!=2.9.*,<3.0.0,>=1.34.1->google-ai-generativelanguage<0.7.0,>=0.6.16->langchain_google_genai) (1.26.16)\n",
            "Requirement already satisfied: sniffio>=1.1 in c:\\programdata\\anaconda3\\lib\\site-packages (from anyio->httpx<1,>=0.23.0->langsmith<0.4,>=0.1.125->langchain-core<0.4.0,>=0.3.43->langchain_google_genai) (1.2.0)\n"
          ]
        },
        {
          "name": "stderr",
          "output_type": "stream",
          "text": [
            "DEPRECATION: Loading egg at c:\\programdata\\anaconda3\\lib\\site-packages\\vboxapi-1.0-py3.11.egg is deprecated. pip 23.3 will enforce this behaviour change. A possible replacement is to use pip for package installation..\n"
          ]
        }
      ],
      "source": [
        "!pip install langchain_google_genai"
      ]
    },
    {
      "cell_type": "code",
      "execution_count": 8,
      "metadata": {
        "colab": {
          "base_uri": "https://localhost:8080/"
        },
        "id": "Cwe3-RQCEUoC",
        "outputId": "bb520d01-0cf5-4cd4-e161-b54b3b0e2e6a"
      },
      "outputs": [
        {
          "name": "stdout",
          "output_type": "stream",
          "text": [
            "Defaulting to user installation because normal site-packages is not writeable\n",
            "Requirement already satisfied: langchain-google-community in c:\\users\\chand\\appdata\\roaming\\python\\python311\\site-packages (2.0.7)\n",
            "Requirement already satisfied: google-api-core<3.0.0,>=2.24.1 in c:\\users\\chand\\appdata\\roaming\\python\\python311\\site-packages (from langchain-google-community) (2.24.2)\n",
            "Requirement already satisfied: google-api-python-client<3.0.0,>=2.161.0 in c:\\users\\chand\\appdata\\roaming\\python\\python311\\site-packages (from langchain-google-community) (2.166.0)\n",
            "Requirement already satisfied: google-cloud-core<3.0.0,>=2.4.2 in c:\\users\\chand\\appdata\\roaming\\python\\python311\\site-packages (from langchain-google-community) (2.4.3)\n",
            "Requirement already satisfied: grpcio<2.0.0,>=1.70.0 in c:\\users\\chand\\appdata\\roaming\\python\\python311\\site-packages (from langchain-google-community) (1.71.0)\n",
            "Requirement already satisfied: langchain-community<0.4.0,>=0.3.0 in c:\\users\\chand\\appdata\\roaming\\python\\python311\\site-packages (from langchain-google-community) (0.3.19)\n",
            "Requirement already satisfied: langchain-core<0.4,>=0.3.0 in c:\\users\\chand\\appdata\\roaming\\python\\python311\\site-packages (from langchain-google-community) (0.3.45)\n",
            "Requirement already satisfied: googleapis-common-protos<2.0.0,>=1.56.2 in c:\\users\\chand\\appdata\\roaming\\python\\python311\\site-packages (from google-api-core<3.0.0,>=2.24.1->langchain-google-community) (1.69.2)\n",
            "Requirement already satisfied: protobuf!=3.20.0,!=3.20.1,!=4.21.0,!=4.21.1,!=4.21.2,!=4.21.3,!=4.21.4,!=4.21.5,<7.0.0,>=3.19.5 in c:\\users\\chand\\appdata\\roaming\\python\\python311\\site-packages (from google-api-core<3.0.0,>=2.24.1->langchain-google-community) (5.29.3)\n",
            "Requirement already satisfied: proto-plus<2.0.0,>=1.22.3 in c:\\users\\chand\\appdata\\roaming\\python\\python311\\site-packages (from google-api-core<3.0.0,>=2.24.1->langchain-google-community) (1.26.1)\n",
            "Requirement already satisfied: google-auth<3.0.0,>=2.14.1 in c:\\users\\chand\\appdata\\roaming\\python\\python311\\site-packages (from google-api-core<3.0.0,>=2.24.1->langchain-google-community) (2.38.0)\n",
            "Requirement already satisfied: requests<3.0.0,>=2.18.0 in c:\\programdata\\anaconda3\\lib\\site-packages (from google-api-core<3.0.0,>=2.24.1->langchain-google-community) (2.31.0)\n",
            "Requirement already satisfied: httplib2<1.0.0,>=0.19.0 in c:\\users\\chand\\appdata\\roaming\\python\\python311\\site-packages (from google-api-python-client<3.0.0,>=2.161.0->langchain-google-community) (0.22.0)\n",
            "Requirement already satisfied: google-auth-httplib2<1.0.0,>=0.2.0 in c:\\users\\chand\\appdata\\roaming\\python\\python311\\site-packages (from google-api-python-client<3.0.0,>=2.161.0->langchain-google-community) (0.2.0)\n",
            "Requirement already satisfied: uritemplate<5,>=3.0.1 in c:\\users\\chand\\appdata\\roaming\\python\\python311\\site-packages (from google-api-python-client<3.0.0,>=2.161.0->langchain-google-community) (4.1.1)\n",
            "Requirement already satisfied: langchain<1.0.0,>=0.3.20 in c:\\users\\chand\\appdata\\roaming\\python\\python311\\site-packages (from langchain-community<0.4.0,>=0.3.0->langchain-google-community) (0.3.20)\n",
            "Requirement already satisfied: SQLAlchemy<3,>=1.4 in c:\\programdata\\anaconda3\\lib\\site-packages (from langchain-community<0.4.0,>=0.3.0->langchain-google-community) (1.4.39)\n",
            "Requirement already satisfied: PyYAML>=5.3 in c:\\programdata\\anaconda3\\lib\\site-packages (from langchain-community<0.4.0,>=0.3.0->langchain-google-community) (6.0)\n",
            "Requirement already satisfied: aiohttp<4.0.0,>=3.8.3 in c:\\programdata\\anaconda3\\lib\\site-packages (from langchain-community<0.4.0,>=0.3.0->langchain-google-community) (3.8.3)\n",
            "Requirement already satisfied: tenacity!=8.4.0,<10,>=8.1.0 in c:\\programdata\\anaconda3\\lib\\site-packages (from langchain-community<0.4.0,>=0.3.0->langchain-google-community) (8.2.2)\n",
            "Requirement already satisfied: dataclasses-json<0.7,>=0.5.7 in c:\\users\\chand\\appdata\\roaming\\python\\python311\\site-packages (from langchain-community<0.4.0,>=0.3.0->langchain-google-community) (0.6.7)\n",
            "Requirement already satisfied: pydantic-settings<3.0.0,>=2.4.0 in c:\\users\\chand\\appdata\\roaming\\python\\python311\\site-packages (from langchain-community<0.4.0,>=0.3.0->langchain-google-community) (2.8.1)\n",
            "Requirement already satisfied: langsmith<0.4,>=0.1.125 in c:\\users\\chand\\appdata\\roaming\\python\\python311\\site-packages (from langchain-community<0.4.0,>=0.3.0->langchain-google-community) (0.3.15)\n",
            "Requirement already satisfied: httpx-sse<1.0.0,>=0.4.0 in c:\\users\\chand\\appdata\\roaming\\python\\python311\\site-packages (from langchain-community<0.4.0,>=0.3.0->langchain-google-community) (0.4.0)\n",
            "Requirement already satisfied: numpy<3,>=1.26.2 in c:\\users\\chand\\appdata\\roaming\\python\\python311\\site-packages (from langchain-community<0.4.0,>=0.3.0->langchain-google-community) (2.2.4)\n",
            "Requirement already satisfied: jsonpatch<2.0,>=1.33 in c:\\users\\chand\\appdata\\roaming\\python\\python311\\site-packages (from langchain-core<0.4,>=0.3.0->langchain-google-community) (1.33)\n",
            "Requirement already satisfied: packaging<25,>=23.2 in c:\\users\\chand\\appdata\\roaming\\python\\python311\\site-packages (from langchain-core<0.4,>=0.3.0->langchain-google-community) (24.2)\n",
            "Requirement already satisfied: typing-extensions>=4.7 in c:\\users\\chand\\appdata\\roaming\\python\\python311\\site-packages (from langchain-core<0.4,>=0.3.0->langchain-google-community) (4.12.2)\n",
            "Requirement already satisfied: pydantic<3.0.0,>=2.5.2 in c:\\users\\chand\\appdata\\roaming\\python\\python311\\site-packages (from langchain-core<0.4,>=0.3.0->langchain-google-community) (2.10.6)\n",
            "Requirement already satisfied: attrs>=17.3.0 in c:\\programdata\\anaconda3\\lib\\site-packages (from aiohttp<4.0.0,>=3.8.3->langchain-community<0.4.0,>=0.3.0->langchain-google-community) (22.1.0)\n",
            "Requirement already satisfied: charset-normalizer<3.0,>=2.0 in c:\\programdata\\anaconda3\\lib\\site-packages (from aiohttp<4.0.0,>=3.8.3->langchain-community<0.4.0,>=0.3.0->langchain-google-community) (2.0.4)\n",
            "Requirement already satisfied: multidict<7.0,>=4.5 in c:\\programdata\\anaconda3\\lib\\site-packages (from aiohttp<4.0.0,>=3.8.3->langchain-community<0.4.0,>=0.3.0->langchain-google-community) (6.0.2)\n",
            "Requirement already satisfied: async-timeout<5.0,>=4.0.0a3 in c:\\programdata\\anaconda3\\lib\\site-packages (from aiohttp<4.0.0,>=3.8.3->langchain-community<0.4.0,>=0.3.0->langchain-google-community) (4.0.2)\n",
            "Requirement already satisfied: yarl<2.0,>=1.0 in c:\\programdata\\anaconda3\\lib\\site-packages (from aiohttp<4.0.0,>=3.8.3->langchain-community<0.4.0,>=0.3.0->langchain-google-community) (1.8.1)\n",
            "Requirement already satisfied: frozenlist>=1.1.1 in c:\\programdata\\anaconda3\\lib\\site-packages (from aiohttp<4.0.0,>=3.8.3->langchain-community<0.4.0,>=0.3.0->langchain-google-community) (1.3.3)\n",
            "Requirement already satisfied: aiosignal>=1.1.2 in c:\\programdata\\anaconda3\\lib\\site-packages (from aiohttp<4.0.0,>=3.8.3->langchain-community<0.4.0,>=0.3.0->langchain-google-community) (1.2.0)\n",
            "Requirement already satisfied: marshmallow<4.0.0,>=3.18.0 in c:\\users\\chand\\appdata\\roaming\\python\\python311\\site-packages (from dataclasses-json<0.7,>=0.5.7->langchain-community<0.4.0,>=0.3.0->langchain-google-community) (3.26.1)\n",
            "Requirement already satisfied: typing-inspect<1,>=0.4.0 in c:\\users\\chand\\appdata\\roaming\\python\\python311\\site-packages (from dataclasses-json<0.7,>=0.5.7->langchain-community<0.4.0,>=0.3.0->langchain-google-community) (0.9.0)\n",
            "Requirement already satisfied: cachetools<6.0,>=2.0.0 in c:\\users\\chand\\appdata\\roaming\\python\\python311\\site-packages (from google-auth<3.0.0,>=2.14.1->google-api-core<3.0.0,>=2.24.1->langchain-google-community) (5.5.2)\n",
            "Requirement already satisfied: pyasn1-modules>=0.2.1 in c:\\programdata\\anaconda3\\lib\\site-packages (from google-auth<3.0.0,>=2.14.1->google-api-core<3.0.0,>=2.24.1->langchain-google-community) (0.2.8)\n",
            "Requirement already satisfied: rsa<5,>=3.1.4 in c:\\users\\chand\\appdata\\roaming\\python\\python311\\site-packages (from google-auth<3.0.0,>=2.14.1->google-api-core<3.0.0,>=2.24.1->langchain-google-community) (4.9)\n",
            "Requirement already satisfied: pyparsing!=3.0.0,!=3.0.1,!=3.0.2,!=3.0.3,<4,>=2.4.2 in c:\\programdata\\anaconda3\\lib\\site-packages (from httplib2<1.0.0,>=0.19.0->google-api-python-client<3.0.0,>=2.161.0->langchain-google-community) (3.0.9)\n",
            "Requirement already satisfied: jsonpointer>=1.9 in c:\\programdata\\anaconda3\\lib\\site-packages (from jsonpatch<2.0,>=1.33->langchain-core<0.4,>=0.3.0->langchain-google-community) (2.1)\n",
            "Requirement already satisfied: langchain-text-splitters<1.0.0,>=0.3.6 in c:\\users\\chand\\appdata\\roaming\\python\\python311\\site-packages (from langchain<1.0.0,>=0.3.20->langchain-community<0.4.0,>=0.3.0->langchain-google-community) (0.3.6)\n",
            "Requirement already satisfied: httpx<1,>=0.23.0 in c:\\users\\chand\\appdata\\roaming\\python\\python311\\site-packages (from langsmith<0.4,>=0.1.125->langchain-community<0.4.0,>=0.3.0->langchain-google-community) (0.28.1)\n",
            "Requirement already satisfied: orjson<4.0.0,>=3.9.14 in c:\\users\\chand\\appdata\\roaming\\python\\python311\\site-packages (from langsmith<0.4,>=0.1.125->langchain-community<0.4.0,>=0.3.0->langchain-google-community) (3.10.15)\n",
            "Requirement already satisfied: requests-toolbelt<2.0.0,>=1.0.0 in c:\\programdata\\anaconda3\\lib\\site-packages (from langsmith<0.4,>=0.1.125->langchain-community<0.4.0,>=0.3.0->langchain-google-community) (1.0.0)\n",
            "Requirement already satisfied: zstandard<0.24.0,>=0.23.0 in c:\\users\\chand\\appdata\\roaming\\python\\python311\\site-packages (from langsmith<0.4,>=0.1.125->langchain-community<0.4.0,>=0.3.0->langchain-google-community) (0.23.0)\n",
            "Requirement already satisfied: annotated-types>=0.6.0 in c:\\users\\chand\\appdata\\roaming\\python\\python311\\site-packages (from pydantic<3.0.0,>=2.5.2->langchain-core<0.4,>=0.3.0->langchain-google-community) (0.7.0)\n",
            "Requirement already satisfied: pydantic-core==2.27.2 in c:\\users\\chand\\appdata\\roaming\\python\\python311\\site-packages (from pydantic<3.0.0,>=2.5.2->langchain-core<0.4,>=0.3.0->langchain-google-community) (2.27.2)\n",
            "Requirement already satisfied: python-dotenv>=0.21.0 in c:\\users\\chand\\appdata\\roaming\\python\\python311\\site-packages (from pydantic-settings<3.0.0,>=2.4.0->langchain-community<0.4.0,>=0.3.0->langchain-google-community) (1.0.1)\n",
            "Requirement already satisfied: idna<4,>=2.5 in c:\\programdata\\anaconda3\\lib\\site-packages (from requests<3.0.0,>=2.18.0->google-api-core<3.0.0,>=2.24.1->langchain-google-community) (3.4)\n",
            "Requirement already satisfied: urllib3<3,>=1.21.1 in c:\\programdata\\anaconda3\\lib\\site-packages (from requests<3.0.0,>=2.18.0->google-api-core<3.0.0,>=2.24.1->langchain-google-community) (1.26.16)\n",
            "Requirement already satisfied: certifi>=2017.4.17 in c:\\programdata\\anaconda3\\lib\\site-packages (from requests<3.0.0,>=2.18.0->google-api-core<3.0.0,>=2.24.1->langchain-google-community) (2023.7.22)\n",
            "Requirement already satisfied: greenlet!=0.4.17 in c:\\programdata\\anaconda3\\lib\\site-packages (from SQLAlchemy<3,>=1.4->langchain-community<0.4.0,>=0.3.0->langchain-google-community) (2.0.1)\n",
            "Requirement already satisfied: anyio in c:\\programdata\\anaconda3\\lib\\site-packages (from httpx<1,>=0.23.0->langsmith<0.4,>=0.1.125->langchain-community<0.4.0,>=0.3.0->langchain-google-community) (3.5.0)\n",
            "Requirement already satisfied: httpcore==1.* in c:\\users\\chand\\appdata\\roaming\\python\\python311\\site-packages (from httpx<1,>=0.23.0->langsmith<0.4,>=0.1.125->langchain-community<0.4.0,>=0.3.0->langchain-google-community) (1.0.7)\n",
            "Requirement already satisfied: h11<0.15,>=0.13 in c:\\users\\chand\\appdata\\roaming\\python\\python311\\site-packages (from httpcore==1.*->httpx<1,>=0.23.0->langsmith<0.4,>=0.1.125->langchain-community<0.4.0,>=0.3.0->langchain-google-community) (0.14.0)\n",
            "Requirement already satisfied: pyasn1<0.5.0,>=0.4.6 in c:\\programdata\\anaconda3\\lib\\site-packages (from pyasn1-modules>=0.2.1->google-auth<3.0.0,>=2.14.1->google-api-core<3.0.0,>=2.24.1->langchain-google-community) (0.4.8)\n",
            "Requirement already satisfied: mypy-extensions>=0.3.0 in c:\\programdata\\anaconda3\\lib\\site-packages (from typing-inspect<1,>=0.4.0->dataclasses-json<0.7,>=0.5.7->langchain-community<0.4.0,>=0.3.0->langchain-google-community) (0.4.3)\n",
            "Requirement already satisfied: sniffio>=1.1 in c:\\programdata\\anaconda3\\lib\\site-packages (from anyio->httpx<1,>=0.23.0->langsmith<0.4,>=0.1.125->langchain-community<0.4.0,>=0.3.0->langchain-google-community) (1.2.0)\n",
            "Note: you may need to restart the kernel to use updated packages.\n"
          ]
        },
        {
          "name": "stderr",
          "output_type": "stream",
          "text": [
            "DEPRECATION: Loading egg at c:\\programdata\\anaconda3\\lib\\site-packages\\vboxapi-1.0-py3.11.egg is deprecated. pip 23.3 will enforce this behaviour change. A possible replacement is to use pip for package installation..\n"
          ]
        }
      ],
      "source": [
        "pip install -U langchain-google-community"
      ]
    },
    {
      "cell_type": "code",
      "execution_count": 9,
      "metadata": {},
      "outputs": [],
      "source": [
        "# !pip install --upgrade jupyter ipywidgets"
      ]
    },
    {
      "cell_type": "code",
      "execution_count": 10,
      "metadata": {},
      "outputs": [
        {
          "name": "stdout",
          "output_type": "stream",
          "text": [
            "Defaulting to user installation because normal site-packages is not writeable\n",
            "Requirement already satisfied: mysql-connector-python in c:\\users\\chand\\appdata\\roaming\\python\\python311\\site-packages (9.2.0)\n"
          ]
        },
        {
          "name": "stderr",
          "output_type": "stream",
          "text": [
            "DEPRECATION: Loading egg at c:\\programdata\\anaconda3\\lib\\site-packages\\vboxapi-1.0-py3.11.egg is deprecated. pip 23.3 will enforce this behaviour change. A possible replacement is to use pip for package installation..\n"
          ]
        }
      ],
      "source": [
        "!pip install mysql-connector-python"
      ]
    },
    {
      "cell_type": "code",
      "execution_count": 11,
      "metadata": {},
      "outputs": [
        {
          "name": "stdout",
          "output_type": "stream",
          "text": [
            "Defaulting to user installation because normal site-packages is not writeable\n",
            "Requirement already satisfied: PyPDF2 in c:\\users\\chand\\appdata\\roaming\\python\\python311\\site-packages (3.0.1)\n"
          ]
        },
        {
          "name": "stderr",
          "output_type": "stream",
          "text": [
            "DEPRECATION: Loading egg at c:\\programdata\\anaconda3\\lib\\site-packages\\vboxapi-1.0-py3.11.egg is deprecated. pip 23.3 will enforce this behaviour change. A possible replacement is to use pip for package installation..\n"
          ]
        }
      ],
      "source": [
        "!pip install PyPDF2"
      ]
    },
    {
      "cell_type": "code",
      "execution_count": null,
      "metadata": {},
      "outputs": [],
      "source": [
        "import os\n",
        "import mysql.connector\n",
        "from mysql.connector import Error\n",
        "from langchain_community.vectorstores import FAISS\n",
        "from langchain_google_genai import GoogleGenerativeAIEmbeddings, ChatGoogleGenerativeAI\n",
        "from langchain.prompts import ChatPromptTemplate\n",
        "from huggingface_hub import InferenceClient\n",
        "import time\n",
        "from dotenv import load_dotenv\n",
        "\n",
        "load_dotenv()\n",
        "\n",
        "# Load API Keys\n",
        "GOOGLE_API_KEY = os.getenv(\"GOOGLE_API_KEY\")\n",
        "HUGGINGFACE_API_KEY = os.getenv(\"HUGGINGFACE_API_KEY\")\n",
        "\n",
        "if not GOOGLE_API_KEY or not HUGGINGFACE_API_KEY:\n",
        "    raise ValueError(\"Missing API keys! Set GOOGLE_API_KEY and HUGGINGFACE_API_KEY in .env file.\")\n",
        "\n",
        "# Initializing LLMs\n",
        "ellm = ChatGoogleGenerativeAI(\n",
        "    model=\"gemini-1.5-flash\",\n",
        "    temperature=0.3,\n",
        "    google_api_key=GOOGLE_API_KEY\n",
        ")\n",
        "\n",
        "agentic_llm = InferenceClient(model=\"mistralai/Mistral-7B-Instruct-v0.1\", token=HUGGINGFACE_API_KEY)\n",
        "\n",
        "# Connect to MySQL\n",
        "def connect_to_mysql():\n",
        "    try:\n",
        "        connection = mysql.connector.connect(\n",
        "            host='localhost',\n",
        "            database='chat_bot',\n",
        "            user='root',\n",
        "            password='pass123'\n",
        "        )\n",
        "        if connection.is_connected():\n",
        "            print(\"Connected to MySQL database\")\n",
        "            return connection\n",
        "    except Error as e:\n",
        "        print(f\"MySQL Connection Error: {e}\")\n",
        "        return None\n",
        "\n",
        "# Retrieve data from MySQL\n",
        "def retrieve_data(connection):\n",
        "    cursor = connection.cursor()\n",
        "    cursor.execute(\"SELECT content FROM documents\")\n",
        "    rows = cursor.fetchall()\n",
        "    cursor.close()\n",
        "    docs = [row[0] for row in rows]\n",
        "    return docs\n",
        "\n",
        "# Initialize Vector Store\n",
        "def initialize_vector_store(connection, force_update=False):\n",
        "    vector_store_path = \"faiss_index\"\n",
        "    embeddings = GoogleGenerativeAIEmbeddings(model=\"models/text-embedding-004\", google_api_key=GOOGLE_API_KEY)\n",
        "    index_file = os.path.join(vector_store_path, \"index.faiss\")\n",
        "    if os.path.exists(index_file) and not force_update:\n",
        "        return\n",
        "    docs = retrieve_data(connection)\n",
        "    if not docs:\n",
        "        raise ValueError(\"No documents found in MySQL database\")\n",
        "    vector_store = FAISS.from_texts(docs, embedding=embeddings)\n",
        "    vector_store.save_local(vector_store_path)\n",
        "\n",
        "# Retriever\n",
        "def get_retriever(connection):\n",
        "    vector_store_path = \"faiss_index\"\n",
        "    embeddings = GoogleGenerativeAIEmbeddings(model=\"models/text-embedding-004\", google_api_key=GOOGLE_API_KEY)\n",
        "    index_file = os.path.join(vector_store_path, \"index.faiss\")\n",
        "    if not os.path.exists(index_file):\n",
        "        initialize_vector_store(connection, force_update=True)\n",
        "    vector_store = FAISS.load_local(vector_store_path, embeddings, allow_dangerous_deserialization=True)\n",
        "    return vector_store.as_retriever(search_kwargs={\"k\": 5})\n",
        "\n",
        "# Chat Prompt Templates\n",
        "ellm_template = ChatPromptTemplate.from_messages([\n",
        "    (\"system\", \"You are an AI assistant with access to scientific research. Use ONLY the retrieved knowledge to answer.\"),\n",
        "    (\"human\", \"**User Question:** {user_question}\\n\\nRetrieved Knowledge from MySQL: {retrieved_text}\\n\\nProvide a precise, factually accurate response using only the retrieved data.\")\n",
        "])\n",
        "\n",
        "agentic_template = ChatPromptTemplate.from_messages([\n",
        "    (\"system\", \"You are responsible for refining responses using ONLY the retrieved knowledge.\"),\n",
        "    (\"human\", \"**User Question:** {user_question}\\n\\n**Initial Response from ELLM:** {ellm_response}\\n\\nRetrieved Knowledge from MySQL: {retrieved_text}\\n\\n**Guidelines:**\\n- DO NOT add extra information.\\n- Ensure precision and factual accuracy.\\n- NOTE: IF YOU DONT HAVE ANY INFORMATION JUST MENTION NO INFORMATION FOUND.\\n- If relevant data is missing, state: 'No relevant information found.'\\n\\nRefine the initial response into a concise, accurate final answer based on the retrieved knowledge:\")\n",
        "])\n",
        "\n",
        "# User Query \n",
        "def process_user_query(user_question, retriever):\n",
        "    start_time = time.time()\n",
        "    retrieved_docs = retriever.invoke(user_question)\n",
        "    retrieved_text = \"\\n\".join([doc.page_content for doc in retrieved_docs])\n",
        "    if not retrieved_text.strip():\n",
        "        return \"No relevant information found.\", time.time() - start_time\n",
        "    \n",
        "    # ELLM Response and Agentic LLM Response\n",
        "    ellm_prompt = ellm_template.format(user_question=user_question, retrieved_text=retrieved_text)\n",
        "    ellm_response = ellm.invoke(ellm_prompt).content.strip()\n",
        "    agentic_prompt = agentic_template.format(\n",
        "        user_question=user_question,\n",
        "        ellm_response=ellm_response,\n",
        "        retrieved_text=retrieved_text\n",
        "    )\n",
        "    \n",
        "    try:\n",
        "        final_response = agentic_llm.text_generation(\n",
        "            agentic_prompt,\n",
        "            max_new_tokens=200,\n",
        "            temperature=0.3,\n",
        "            top_k=50\n",
        "        ).strip()\n",
        "\n",
        "        \n",
        "        if final_response.startswith(\"You are responsible for refining responses\") or len(final_response.split()) < 5:\n",
        "            final_response = ellm_response\n",
        "    except Exception as e:\n",
        "        print(f\"Agentic LLM Error: {e}\")\n",
        "        final_response = ellm_response\n",
        "\n",
        "    return final_response, time.time() - start_time\n",
        "\n",
        "# Main Execution\n",
        "if __name__ == \"__main__\":\n",
        "    connection = connect_to_mysql()\n",
        "    if connection:\n",
        "        retriever = get_retriever(connection)\n",
        "        \n",
        "        print(\"Ask your queries.\")\n",
        "        \n",
        "        while True:\n",
        "            user_question = input(\"Ask a question (or type 'exit' to quit): \")\n",
        "            if user_question.lower() == \"exit\":\n",
        "                break\n",
        "            \n",
        "            response, time_taken = process_user_query(user_question, retriever)\n",
        "            print(f\"Final Answer generated in {time_taken:.2f} seconds\\n\")\n",
        "            print(f\"Final Answer: {response}\\n\")\n",
        "        \n",
        "        connection.close()"
      ]
    }
  ],
  "metadata": {
    "colab": {
      "provenance": []
    },
    "kernelspec": {
      "display_name": "base",
      "language": "python",
      "name": "python3"
    },
    "language_info": {
      "codemirror_mode": {
        "name": "ipython",
        "version": 3
      },
      "file_extension": ".py",
      "mimetype": "text/x-python",
      "name": "python",
      "nbconvert_exporter": "python",
      "pygments_lexer": "ipython3",
      "version": "3.11.4"
    }
  },
  "nbformat": 4,
  "nbformat_minor": 0
}
